{
 "cells": [
  {
   "cell_type": "markdown",
   "id": "818dc177",
   "metadata": {},
   "source": [
    "# WEATHER ANALYSIS - TIME SERIES FORECASTING\n"
   ]
  },
  {
   "cell_type": "markdown",
   "id": "c8b38a4e",
   "metadata": {},
   "source": [
    "##### 1) DATA IMPORT"
   ]
  },
  {
   "cell_type": "code",
   "execution_count": 4,
   "id": "75b1adb2",
   "metadata": {},
   "outputs": [],
   "source": [
    "import pandas as pd                                                                 #importing pandas python library"
   ]
  },
  {
   "cell_type": "code",
   "execution_count": 7,
   "id": "862e4fe4",
   "metadata": {},
   "outputs": [],
   "source": [
    "weather = pd.read_csv(\"/Users/ezhilan/Desktop/maindataset.csv\" ,index_col=\"DATE\")   # importing and reading our data \n",
    "                                                                                    # using pandas read_csv function"
   ]
  },
  {
   "cell_type": "code",
   "execution_count": null,
   "id": "be5232d7",
   "metadata": {},
   "outputs": [],
   "source": [
    "# Using index_column as date column : as it is unique for every row."
   ]
  },
  {
   "cell_type": "code",
   "execution_count": 9,
   "id": "dcdcf9ed",
   "metadata": {},
   "outputs": [
    {
     "data": {
      "text/html": [
       "<div>\n",
       "<style scoped>\n",
       "    .dataframe tbody tr th:only-of-type {\n",
       "        vertical-align: middle;\n",
       "    }\n",
       "\n",
       "    .dataframe tbody tr th {\n",
       "        vertical-align: top;\n",
       "    }\n",
       "\n",
       "    .dataframe thead th {\n",
       "        text-align: right;\n",
       "    }\n",
       "</style>\n",
       "<table border=\"1\" class=\"dataframe\">\n",
       "  <thead>\n",
       "    <tr style=\"text-align: right;\">\n",
       "      <th></th>\n",
       "      <th>STATION</th>\n",
       "      <th>PRECIPITATION</th>\n",
       "      <th>HUMIDITY</th>\n",
       "      <th>SUNSHINE</th>\n",
       "      <th>WIND</th>\n",
       "      <th>TMAX</th>\n",
       "      <th>TMIN</th>\n",
       "      <th>TAVG</th>\n",
       "      <th>Unnamed: 9</th>\n",
       "      <th>Unnamed: 10</th>\n",
       "      <th>Unnamed: 11</th>\n",
       "    </tr>\n",
       "    <tr>\n",
       "      <th>DATE</th>\n",
       "      <th></th>\n",
       "      <th></th>\n",
       "      <th></th>\n",
       "      <th></th>\n",
       "      <th></th>\n",
       "      <th></th>\n",
       "      <th></th>\n",
       "      <th></th>\n",
       "      <th></th>\n",
       "      <th></th>\n",
       "      <th></th>\n",
       "    </tr>\n",
       "  </thead>\n",
       "  <tbody>\n",
       "    <tr>\n",
       "      <th>2012-01-01</th>\n",
       "      <td>IND00093134</td>\n",
       "      <td>0</td>\n",
       "      <td>27</td>\n",
       "      <td>3.7</td>\n",
       "      <td>4.7</td>\n",
       "      <td>82</td>\n",
       "      <td>46</td>\n",
       "      <td>NaN</td>\n",
       "      <td>NaN</td>\n",
       "      <td>NaN</td>\n",
       "      <td>NaN</td>\n",
       "    </tr>\n",
       "    <tr>\n",
       "      <th>2012-01-02</th>\n",
       "      <td>IND00093134</td>\n",
       "      <td>10.9</td>\n",
       "      <td>32</td>\n",
       "      <td>0.4</td>\n",
       "      <td>4.5</td>\n",
       "      <td>80</td>\n",
       "      <td>45</td>\n",
       "      <td>NaN</td>\n",
       "      <td>NaN</td>\n",
       "      <td>NaN</td>\n",
       "      <td>NaN</td>\n",
       "    </tr>\n",
       "    <tr>\n",
       "      <th>2012-01-03</th>\n",
       "      <td>IND00093134</td>\n",
       "      <td>0.8</td>\n",
       "      <td>44</td>\n",
       "      <td>0.0</td>\n",
       "      <td>2.3</td>\n",
       "      <td>79</td>\n",
       "      <td>50</td>\n",
       "      <td>NaN</td>\n",
       "      <td>NaN</td>\n",
       "      <td>NaN</td>\n",
       "      <td>NaN</td>\n",
       "    </tr>\n",
       "    <tr>\n",
       "      <th>2012-01-04</th>\n",
       "      <td>IND00093134</td>\n",
       "      <td>20.3</td>\n",
       "      <td>41</td>\n",
       "      <td>0.0</td>\n",
       "      <td>4.7</td>\n",
       "      <td>86</td>\n",
       "      <td>55</td>\n",
       "      <td>NaN</td>\n",
       "      <td>NaN</td>\n",
       "      <td>NaN</td>\n",
       "      <td>NaN</td>\n",
       "    </tr>\n",
       "    <tr>\n",
       "      <th>2012-01-05</th>\n",
       "      <td>IND00093134</td>\n",
       "      <td>1.3</td>\n",
       "      <td>47</td>\n",
       "      <td>0.8</td>\n",
       "      <td>6.1</td>\n",
       "      <td>82</td>\n",
       "      <td>55</td>\n",
       "      <td>NaN</td>\n",
       "      <td>NaN</td>\n",
       "      <td>NaN</td>\n",
       "      <td>NaN</td>\n",
       "    </tr>\n",
       "    <tr>\n",
       "      <th>...</th>\n",
       "      <td>...</td>\n",
       "      <td>...</td>\n",
       "      <td>...</td>\n",
       "      <td>...</td>\n",
       "      <td>...</td>\n",
       "      <td>...</td>\n",
       "      <td>...</td>\n",
       "      <td>...</td>\n",
       "      <td>...</td>\n",
       "      <td>...</td>\n",
       "      <td>...</td>\n",
       "    </tr>\n",
       "    <tr>\n",
       "      <th>2022-12-27</th>\n",
       "      <td>IND00093134</td>\n",
       "      <td>0.8</td>\n",
       "      <td>20</td>\n",
       "      <td>9.6</td>\n",
       "      <td>1.8</td>\n",
       "      <td>65</td>\n",
       "      <td>55</td>\n",
       "      <td>NaN</td>\n",
       "      <td>NaN</td>\n",
       "      <td>NaN</td>\n",
       "      <td>NaN</td>\n",
       "    </tr>\n",
       "    <tr>\n",
       "      <th>2022-12-28</th>\n",
       "      <td>IND00093134</td>\n",
       "      <td>20.3</td>\n",
       "      <td>15</td>\n",
       "      <td>8.2</td>\n",
       "      <td>2.2</td>\n",
       "      <td>64</td>\n",
       "      <td>51</td>\n",
       "      <td>NaN</td>\n",
       "      <td>NaN</td>\n",
       "      <td>NaN</td>\n",
       "      <td>NaN</td>\n",
       "    </tr>\n",
       "    <tr>\n",
       "      <th>2022-12-29</th>\n",
       "      <td>IND00093134</td>\n",
       "      <td>1.3</td>\n",
       "      <td>19</td>\n",
       "      <td>5.5</td>\n",
       "      <td>1.2</td>\n",
       "      <td>61</td>\n",
       "      <td>56</td>\n",
       "      <td>NaN</td>\n",
       "      <td>NaN</td>\n",
       "      <td>NaN</td>\n",
       "      <td>NaN</td>\n",
       "    </tr>\n",
       "    <tr>\n",
       "      <th>2022-12-30</th>\n",
       "      <td>IND00093134</td>\n",
       "      <td>2.5</td>\n",
       "      <td>19</td>\n",
       "      <td>10.6</td>\n",
       "      <td>4.9</td>\n",
       "      <td>60</td>\n",
       "      <td>56</td>\n",
       "      <td>NaN</td>\n",
       "      <td>NaN</td>\n",
       "      <td>NaN</td>\n",
       "      <td>NaN</td>\n",
       "    </tr>\n",
       "    <tr>\n",
       "      <th>2022-12-31</th>\n",
       "      <td>IND00093134</td>\n",
       "      <td>0</td>\n",
       "      <td>38</td>\n",
       "      <td>9.9</td>\n",
       "      <td>1.8</td>\n",
       "      <td>60</td>\n",
       "      <td>57</td>\n",
       "      <td>NaN</td>\n",
       "      <td>NaN</td>\n",
       "      <td>NaN</td>\n",
       "      <td>NaN</td>\n",
       "    </tr>\n",
       "  </tbody>\n",
       "</table>\n",
       "<p>8037 rows × 11 columns</p>\n",
       "</div>"
      ],
      "text/plain": [
       "                STATION PRECIPITATION HUMIDITY SUNSHINE WIND TMAX TMIN  TAVG  \\\n",
       "DATE                                                                           \n",
       "2012-01-01  IND00093134             0       27      3.7  4.7   82   46   NaN   \n",
       "2012-01-02  IND00093134          10.9       32      0.4  4.5   80   45   NaN   \n",
       "2012-01-03  IND00093134           0.8       44      0.0  2.3   79   50   NaN   \n",
       "2012-01-04  IND00093134          20.3       41      0.0  4.7   86   55   NaN   \n",
       "2012-01-05  IND00093134           1.3       47      0.8  6.1   82   55   NaN   \n",
       "...                 ...           ...      ...      ...  ...  ...  ...   ...   \n",
       "2022-12-27  IND00093134           0.8       20      9.6  1.8   65   55   NaN   \n",
       "2022-12-28  IND00093134          20.3       15      8.2  2.2   64   51   NaN   \n",
       "2022-12-29  IND00093134           1.3       19      5.5  1.2   61   56   NaN   \n",
       "2022-12-30  IND00093134           2.5       19     10.6  4.9   60   56   NaN   \n",
       "2022-12-31  IND00093134             0       38      9.9  1.8   60   57   NaN   \n",
       "\n",
       "            Unnamed: 9  Unnamed: 10  Unnamed: 11  \n",
       "DATE                                              \n",
       "2012-01-01         NaN          NaN          NaN  \n",
       "2012-01-02         NaN          NaN          NaN  \n",
       "2012-01-03         NaN          NaN          NaN  \n",
       "2012-01-04         NaN          NaN          NaN  \n",
       "2012-01-05         NaN          NaN          NaN  \n",
       "...                ...          ...          ...  \n",
       "2022-12-27         NaN          NaN          NaN  \n",
       "2022-12-28         NaN          NaN          NaN  \n",
       "2022-12-29         NaN          NaN          NaN  \n",
       "2022-12-30         NaN          NaN          NaN  \n",
       "2022-12-31         NaN          NaN          NaN  \n",
       "\n",
       "[8037 rows x 11 columns]"
      ]
     },
     "execution_count": 9,
     "metadata": {},
     "output_type": "execute_result"
    }
   ],
   "source": [
    "weather                                                          "
   ]
  },
  {
   "cell_type": "markdown",
   "id": "5bd461da",
   "metadata": {},
   "source": [
    "##### 2) DATA CLEANING"
   ]
  },
  {
   "cell_type": "code",
   "execution_count": 10,
   "id": "4393ab18",
   "metadata": {},
   "outputs": [],
   "source": [
    "# first thing we want to do is find and fix missing values in our data set."
   ]
  },
  {
   "cell_type": "code",
   "execution_count": 11,
   "id": "db307ab0",
   "metadata": {},
   "outputs": [
    {
     "data": {
      "text/plain": [
       "STATION             0\n",
       "PRECIPITATION       4\n",
       "HUMIDITY           82\n",
       "SUNSHINE            0\n",
       "WIND                4\n",
       "TMAX                0\n",
       "TMIN                0\n",
       "TAVG             8037\n",
       "Unnamed: 9       8037\n",
       "Unnamed: 10      8037\n",
       "Unnamed: 11      8037\n",
       "dtype: int64"
      ]
     },
     "execution_count": 11,
     "metadata": {},
     "output_type": "execute_result"
    }
   ],
   "source": [
    "weather.apply(pd.isnull).sum()"
   ]
  },
  {
   "cell_type": "code",
   "execution_count": 12,
   "id": "e8225417",
   "metadata": {},
   "outputs": [],
   "source": [
    "# to find which columns have missing values we use 'apply' method on the weather data frame\n",
    "# and we will pass pandas in the 'null' function which goes column by column through the weather data frame and -\n",
    "# - look for any null values .\n",
    "# .sum() gives us the count of all the null values in each column ~ example: PRECIPITATION column has 4 null values."
   ]
  },
  {
   "cell_type": "code",
   "execution_count": 13,
   "id": "81b4d268",
   "metadata": {},
   "outputs": [],
   "source": [
    "core_weather = weather[[\"PRECIPITATION\",\"HUMIDITY\",\"SUNSHINE\",\"WIND\",\"TMAX\",\"TMIN\"]].copy()\n"
   ]
  },
  {
   "cell_type": "code",
   "execution_count": 14,
   "id": "a5d4fec5",
   "metadata": {},
   "outputs": [
    {
     "data": {
      "text/html": [
       "<div>\n",
       "<style scoped>\n",
       "    .dataframe tbody tr th:only-of-type {\n",
       "        vertical-align: middle;\n",
       "    }\n",
       "\n",
       "    .dataframe tbody tr th {\n",
       "        vertical-align: top;\n",
       "    }\n",
       "\n",
       "    .dataframe thead th {\n",
       "        text-align: right;\n",
       "    }\n",
       "</style>\n",
       "<table border=\"1\" class=\"dataframe\">\n",
       "  <thead>\n",
       "    <tr style=\"text-align: right;\">\n",
       "      <th></th>\n",
       "      <th>PRECIPITATION</th>\n",
       "      <th>HUMIDITY</th>\n",
       "      <th>SUNSHINE</th>\n",
       "      <th>WIND</th>\n",
       "      <th>TMAX</th>\n",
       "      <th>TMIN</th>\n",
       "    </tr>\n",
       "    <tr>\n",
       "      <th>DATE</th>\n",
       "      <th></th>\n",
       "      <th></th>\n",
       "      <th></th>\n",
       "      <th></th>\n",
       "      <th></th>\n",
       "      <th></th>\n",
       "    </tr>\n",
       "  </thead>\n",
       "  <tbody>\n",
       "    <tr>\n",
       "      <th>2012-01-01</th>\n",
       "      <td>0</td>\n",
       "      <td>27</td>\n",
       "      <td>3.7</td>\n",
       "      <td>4.7</td>\n",
       "      <td>82</td>\n",
       "      <td>46</td>\n",
       "    </tr>\n",
       "    <tr>\n",
       "      <th>2012-01-02</th>\n",
       "      <td>10.9</td>\n",
       "      <td>32</td>\n",
       "      <td>0.4</td>\n",
       "      <td>4.5</td>\n",
       "      <td>80</td>\n",
       "      <td>45</td>\n",
       "    </tr>\n",
       "    <tr>\n",
       "      <th>2012-01-03</th>\n",
       "      <td>0.8</td>\n",
       "      <td>44</td>\n",
       "      <td>0.0</td>\n",
       "      <td>2.3</td>\n",
       "      <td>79</td>\n",
       "      <td>50</td>\n",
       "    </tr>\n",
       "    <tr>\n",
       "      <th>2012-01-04</th>\n",
       "      <td>20.3</td>\n",
       "      <td>41</td>\n",
       "      <td>0.0</td>\n",
       "      <td>4.7</td>\n",
       "      <td>86</td>\n",
       "      <td>55</td>\n",
       "    </tr>\n",
       "    <tr>\n",
       "      <th>2012-01-05</th>\n",
       "      <td>1.3</td>\n",
       "      <td>47</td>\n",
       "      <td>0.8</td>\n",
       "      <td>6.1</td>\n",
       "      <td>82</td>\n",
       "      <td>55</td>\n",
       "    </tr>\n",
       "    <tr>\n",
       "      <th>...</th>\n",
       "      <td>...</td>\n",
       "      <td>...</td>\n",
       "      <td>...</td>\n",
       "      <td>...</td>\n",
       "      <td>...</td>\n",
       "      <td>...</td>\n",
       "    </tr>\n",
       "    <tr>\n",
       "      <th>2022-12-27</th>\n",
       "      <td>0.8</td>\n",
       "      <td>20</td>\n",
       "      <td>9.6</td>\n",
       "      <td>1.8</td>\n",
       "      <td>65</td>\n",
       "      <td>55</td>\n",
       "    </tr>\n",
       "    <tr>\n",
       "      <th>2022-12-28</th>\n",
       "      <td>20.3</td>\n",
       "      <td>15</td>\n",
       "      <td>8.2</td>\n",
       "      <td>2.2</td>\n",
       "      <td>64</td>\n",
       "      <td>51</td>\n",
       "    </tr>\n",
       "    <tr>\n",
       "      <th>2022-12-29</th>\n",
       "      <td>1.3</td>\n",
       "      <td>19</td>\n",
       "      <td>5.5</td>\n",
       "      <td>1.2</td>\n",
       "      <td>61</td>\n",
       "      <td>56</td>\n",
       "    </tr>\n",
       "    <tr>\n",
       "      <th>2022-12-30</th>\n",
       "      <td>2.5</td>\n",
       "      <td>19</td>\n",
       "      <td>10.6</td>\n",
       "      <td>4.9</td>\n",
       "      <td>60</td>\n",
       "      <td>56</td>\n",
       "    </tr>\n",
       "    <tr>\n",
       "      <th>2022-12-31</th>\n",
       "      <td>0</td>\n",
       "      <td>38</td>\n",
       "      <td>9.9</td>\n",
       "      <td>1.8</td>\n",
       "      <td>60</td>\n",
       "      <td>57</td>\n",
       "    </tr>\n",
       "  </tbody>\n",
       "</table>\n",
       "<p>8037 rows × 6 columns</p>\n",
       "</div>"
      ],
      "text/plain": [
       "           PRECIPITATION HUMIDITY SUNSHINE WIND TMAX TMIN\n",
       "DATE                                                     \n",
       "2012-01-01             0       27      3.7  4.7   82   46\n",
       "2012-01-02          10.9       32      0.4  4.5   80   45\n",
       "2012-01-03           0.8       44      0.0  2.3   79   50\n",
       "2012-01-04          20.3       41      0.0  4.7   86   55\n",
       "2012-01-05           1.3       47      0.8  6.1   82   55\n",
       "...                  ...      ...      ...  ...  ...  ...\n",
       "2022-12-27           0.8       20      9.6  1.8   65   55\n",
       "2022-12-28          20.3       15      8.2  2.2   64   51\n",
       "2022-12-29           1.3       19      5.5  1.2   61   56\n",
       "2022-12-30           2.5       19     10.6  4.9   60   56\n",
       "2022-12-31             0       38      9.9  1.8   60   57\n",
       "\n",
       "[8037 rows x 6 columns]"
      ]
     },
     "execution_count": 14,
     "metadata": {},
     "output_type": "execute_result"
    }
   ],
   "source": [
    "core_weather"
   ]
  },
  {
   "cell_type": "code",
   "execution_count": 15,
   "id": "2507447d",
   "metadata": {},
   "outputs": [],
   "source": [
    "# we are only taking the columns which are necessary to do our activity \n",
    "# so we are copying the necessary columns from 'weather' to create a new table with necessary columns called-\n",
    "# -'core_weather' "
   ]
  },
  {
   "cell_type": "markdown",
   "id": "d0c3a7d8",
   "metadata": {},
   "source": [
    "CHECKING FOR NULL VALUES IN EACH COLUMN\n"
   ]
  },
  {
   "cell_type": "code",
   "execution_count": 16,
   "id": "a76332d0",
   "metadata": {},
   "outputs": [
    {
     "data": {
      "text/html": [
       "<div>\n",
       "<style scoped>\n",
       "    .dataframe tbody tr th:only-of-type {\n",
       "        vertical-align: middle;\n",
       "    }\n",
       "\n",
       "    .dataframe tbody tr th {\n",
       "        vertical-align: top;\n",
       "    }\n",
       "\n",
       "    .dataframe thead th {\n",
       "        text-align: right;\n",
       "    }\n",
       "</style>\n",
       "<table border=\"1\" class=\"dataframe\">\n",
       "  <thead>\n",
       "    <tr style=\"text-align: right;\">\n",
       "      <th></th>\n",
       "      <th>PRECIPITATION</th>\n",
       "      <th>HUMIDITY</th>\n",
       "      <th>SUNSHINE</th>\n",
       "      <th>WIND</th>\n",
       "      <th>TMAX</th>\n",
       "      <th>TMIN</th>\n",
       "    </tr>\n",
       "    <tr>\n",
       "      <th>DATE</th>\n",
       "      <th></th>\n",
       "      <th></th>\n",
       "      <th></th>\n",
       "      <th></th>\n",
       "      <th></th>\n",
       "      <th></th>\n",
       "    </tr>\n",
       "  </thead>\n",
       "  <tbody>\n",
       "    <tr>\n",
       "      <th>2020-01-01</th>\n",
       "      <td>NaN</td>\n",
       "      <td>73</td>\n",
       "      <td>0.0</td>\n",
       "      <td>NaN</td>\n",
       "      <td>70</td>\n",
       "      <td>49</td>\n",
       "    </tr>\n",
       "    <tr>\n",
       "      <th>2020-01-02</th>\n",
       "      <td>NaN</td>\n",
       "      <td>68</td>\n",
       "      <td>0.0</td>\n",
       "      <td>NaN</td>\n",
       "      <td>70</td>\n",
       "      <td>50</td>\n",
       "    </tr>\n",
       "    <tr>\n",
       "      <th>2020-01-01</th>\n",
       "      <td>NaN</td>\n",
       "      <td>73</td>\n",
       "      <td>0.0</td>\n",
       "      <td>NaN</td>\n",
       "      <td>70</td>\n",
       "      <td>49</td>\n",
       "    </tr>\n",
       "    <tr>\n",
       "      <th>2020-01-02</th>\n",
       "      <td>NaN</td>\n",
       "      <td>68</td>\n",
       "      <td>0.0</td>\n",
       "      <td>NaN</td>\n",
       "      <td>70</td>\n",
       "      <td>50</td>\n",
       "    </tr>\n",
       "  </tbody>\n",
       "</table>\n",
       "</div>"
      ],
      "text/plain": [
       "           PRECIPITATION HUMIDITY SUNSHINE WIND TMAX TMIN\n",
       "DATE                                                     \n",
       "2020-01-01           NaN       73      0.0  NaN   70   49\n",
       "2020-01-02           NaN       68      0.0  NaN   70   50\n",
       "2020-01-01           NaN       73      0.0  NaN   70   49\n",
       "2020-01-02           NaN       68      0.0  NaN   70   50"
      ]
     },
     "execution_count": 16,
     "metadata": {},
     "output_type": "execute_result"
    }
   ],
   "source": [
    "core_weather[pd.isnull(core_weather[\"PRECIPITATION\"])]"
   ]
  },
  {
   "cell_type": "code",
   "execution_count": 17,
   "id": "392943af",
   "metadata": {},
   "outputs": [
    {
     "data": {
      "text/html": [
       "<div>\n",
       "<style scoped>\n",
       "    .dataframe tbody tr th:only-of-type {\n",
       "        vertical-align: middle;\n",
       "    }\n",
       "\n",
       "    .dataframe tbody tr th {\n",
       "        vertical-align: top;\n",
       "    }\n",
       "\n",
       "    .dataframe thead th {\n",
       "        text-align: right;\n",
       "    }\n",
       "</style>\n",
       "<table border=\"1\" class=\"dataframe\">\n",
       "  <thead>\n",
       "    <tr style=\"text-align: right;\">\n",
       "      <th></th>\n",
       "      <th>PRECIPITATION</th>\n",
       "      <th>HUMIDITY</th>\n",
       "      <th>SUNSHINE</th>\n",
       "      <th>WIND</th>\n",
       "      <th>TMAX</th>\n",
       "      <th>TMIN</th>\n",
       "    </tr>\n",
       "    <tr>\n",
       "      <th>DATE</th>\n",
       "      <th></th>\n",
       "      <th></th>\n",
       "      <th></th>\n",
       "      <th></th>\n",
       "      <th></th>\n",
       "      <th></th>\n",
       "    </tr>\n",
       "  </thead>\n",
       "  <tbody>\n",
       "    <tr>\n",
       "      <th>2012-05-04</th>\n",
       "      <td>1.8</td>\n",
       "      <td>NaN</td>\n",
       "      <td>11.6</td>\n",
       "      <td>4.6</td>\n",
       "      <td>69</td>\n",
       "      <td>54</td>\n",
       "    </tr>\n",
       "    <tr>\n",
       "      <th>2012-08-28</th>\n",
       "      <td>0.8</td>\n",
       "      <td>NaN</td>\n",
       "      <td>7.8</td>\n",
       "      <td>3.2</td>\n",
       "      <td>90</td>\n",
       "      <td>67</td>\n",
       "    </tr>\n",
       "    <tr>\n",
       "      <th>2012-10-30</th>\n",
       "      <td>0.5</td>\n",
       "      <td>NaN</td>\n",
       "      <td>6.0</td>\n",
       "      <td>2.8</td>\n",
       "      <td>76</td>\n",
       "      <td>54</td>\n",
       "    </tr>\n",
       "    <tr>\n",
       "      <th>2013-06-04</th>\n",
       "      <td>16.5</td>\n",
       "      <td>NaN</td>\n",
       "      <td>5.3</td>\n",
       "      <td>3.4</td>\n",
       "      <td>73</td>\n",
       "      <td>62</td>\n",
       "    </tr>\n",
       "    <tr>\n",
       "      <th>2013-08-07</th>\n",
       "      <td>0.8</td>\n",
       "      <td>NaN</td>\n",
       "      <td>12.0</td>\n",
       "      <td>1.9</td>\n",
       "      <td>78</td>\n",
       "      <td>61</td>\n",
       "    </tr>\n",
       "    <tr>\n",
       "      <th>...</th>\n",
       "      <td>...</td>\n",
       "      <td>...</td>\n",
       "      <td>...</td>\n",
       "      <td>...</td>\n",
       "      <td>...</td>\n",
       "      <td>...</td>\n",
       "    </tr>\n",
       "    <tr>\n",
       "      <th>2019-10-25</th>\n",
       "      <td>0</td>\n",
       "      <td>NaN</td>\n",
       "      <td>0.0</td>\n",
       "      <td>3.4</td>\n",
       "      <td>93</td>\n",
       "      <td>64</td>\n",
       "    </tr>\n",
       "    <tr>\n",
       "      <th>2020-04-20</th>\n",
       "      <td>1.8</td>\n",
       "      <td>NaN</td>\n",
       "      <td>11.3</td>\n",
       "      <td>2</td>\n",
       "      <td>69</td>\n",
       "      <td>59</td>\n",
       "    </tr>\n",
       "    <tr>\n",
       "      <th>2020-09-04</th>\n",
       "      <td>0</td>\n",
       "      <td>NaN</td>\n",
       "      <td>10.4</td>\n",
       "      <td>2.1</td>\n",
       "      <td>87</td>\n",
       "      <td>66</td>\n",
       "    </tr>\n",
       "    <tr>\n",
       "      <th>2021-02-04</th>\n",
       "      <td>0</td>\n",
       "      <td>NaN</td>\n",
       "      <td>0.0</td>\n",
       "      <td>2.9</td>\n",
       "      <td>66</td>\n",
       "      <td>52</td>\n",
       "    </tr>\n",
       "    <tr>\n",
       "      <th>2022-05-04</th>\n",
       "      <td>0</td>\n",
       "      <td>NaN</td>\n",
       "      <td>7.0</td>\n",
       "      <td>3</td>\n",
       "      <td>75</td>\n",
       "      <td>57</td>\n",
       "    </tr>\n",
       "  </tbody>\n",
       "</table>\n",
       "<p>82 rows × 6 columns</p>\n",
       "</div>"
      ],
      "text/plain": [
       "           PRECIPITATION HUMIDITY SUNSHINE WIND TMAX TMIN\n",
       "DATE                                                     \n",
       "2012-05-04           1.8      NaN     11.6  4.6   69   54\n",
       "2012-08-28           0.8      NaN      7.8  3.2   90   67\n",
       "2012-10-30           0.5      NaN      6.0  2.8   76   54\n",
       "2013-06-04          16.5      NaN      5.3  3.4   73   62\n",
       "2013-08-07           0.8      NaN     12.0  1.9   78   61\n",
       "...                  ...      ...      ...  ...  ...  ...\n",
       "2019-10-25             0      NaN      0.0  3.4   93   64\n",
       "2020-04-20           1.8      NaN     11.3    2   69   59\n",
       "2020-09-04             0      NaN     10.4  2.1   87   66\n",
       "2021-02-04             0      NaN      0.0  2.9   66   52\n",
       "2022-05-04             0      NaN      7.0    3   75   57\n",
       "\n",
       "[82 rows x 6 columns]"
      ]
     },
     "execution_count": 17,
     "metadata": {},
     "output_type": "execute_result"
    }
   ],
   "source": [
    "core_weather[pd.isnull(core_weather[\"HUMIDITY\"])]"
   ]
  },
  {
   "cell_type": "code",
   "execution_count": 18,
   "id": "b1e9a24e",
   "metadata": {},
   "outputs": [
    {
     "data": {
      "text/html": [
       "<div>\n",
       "<style scoped>\n",
       "    .dataframe tbody tr th:only-of-type {\n",
       "        vertical-align: middle;\n",
       "    }\n",
       "\n",
       "    .dataframe tbody tr th {\n",
       "        vertical-align: top;\n",
       "    }\n",
       "\n",
       "    .dataframe thead th {\n",
       "        text-align: right;\n",
       "    }\n",
       "</style>\n",
       "<table border=\"1\" class=\"dataframe\">\n",
       "  <thead>\n",
       "    <tr style=\"text-align: right;\">\n",
       "      <th></th>\n",
       "      <th>PRECIPITATION</th>\n",
       "      <th>HUMIDITY</th>\n",
       "      <th>SUNSHINE</th>\n",
       "      <th>WIND</th>\n",
       "      <th>TMAX</th>\n",
       "      <th>TMIN</th>\n",
       "    </tr>\n",
       "    <tr>\n",
       "      <th>DATE</th>\n",
       "      <th></th>\n",
       "      <th></th>\n",
       "      <th></th>\n",
       "      <th></th>\n",
       "      <th></th>\n",
       "      <th></th>\n",
       "    </tr>\n",
       "  </thead>\n",
       "  <tbody>\n",
       "    <tr>\n",
       "      <th>2020-01-01</th>\n",
       "      <td>NaN</td>\n",
       "      <td>73</td>\n",
       "      <td>0.0</td>\n",
       "      <td>NaN</td>\n",
       "      <td>70</td>\n",
       "      <td>49</td>\n",
       "    </tr>\n",
       "    <tr>\n",
       "      <th>2020-01-02</th>\n",
       "      <td>NaN</td>\n",
       "      <td>68</td>\n",
       "      <td>0.0</td>\n",
       "      <td>NaN</td>\n",
       "      <td>70</td>\n",
       "      <td>50</td>\n",
       "    </tr>\n",
       "    <tr>\n",
       "      <th>2020-01-01</th>\n",
       "      <td>NaN</td>\n",
       "      <td>73</td>\n",
       "      <td>0.0</td>\n",
       "      <td>NaN</td>\n",
       "      <td>70</td>\n",
       "      <td>49</td>\n",
       "    </tr>\n",
       "    <tr>\n",
       "      <th>2020-01-02</th>\n",
       "      <td>NaN</td>\n",
       "      <td>68</td>\n",
       "      <td>0.0</td>\n",
       "      <td>NaN</td>\n",
       "      <td>70</td>\n",
       "      <td>50</td>\n",
       "    </tr>\n",
       "  </tbody>\n",
       "</table>\n",
       "</div>"
      ],
      "text/plain": [
       "           PRECIPITATION HUMIDITY SUNSHINE WIND TMAX TMIN\n",
       "DATE                                                     \n",
       "2020-01-01           NaN       73      0.0  NaN   70   49\n",
       "2020-01-02           NaN       68      0.0  NaN   70   50\n",
       "2020-01-01           NaN       73      0.0  NaN   70   49\n",
       "2020-01-02           NaN       68      0.0  NaN   70   50"
      ]
     },
     "execution_count": 18,
     "metadata": {},
     "output_type": "execute_result"
    }
   ],
   "source": [
    "core_weather[pd.isnull(core_weather[\"WIND\"])]"
   ]
  },
  {
   "cell_type": "markdown",
   "id": "cb9f4ad5",
   "metadata": {},
   "source": [
    "##### 3) DATA MANIPULATION"
   ]
  },
  {
   "cell_type": "markdown",
   "id": "c776581f",
   "metadata": {},
   "source": [
    "FILLING NULL VALUES IN EACH COLUMN"
   ]
  },
  {
   "cell_type": "code",
   "execution_count": 19,
   "id": "c2d4d2ec",
   "metadata": {},
   "outputs": [],
   "source": [
    "core_weather[\"PRECIPITATION\"] = core_weather[\"PRECIPITATION\"].fillna(0)"
   ]
  },
  {
   "cell_type": "code",
   "execution_count": 20,
   "id": "3bee1495",
   "metadata": {},
   "outputs": [
    {
     "data": {
      "text/html": [
       "<div>\n",
       "<style scoped>\n",
       "    .dataframe tbody tr th:only-of-type {\n",
       "        vertical-align: middle;\n",
       "    }\n",
       "\n",
       "    .dataframe tbody tr th {\n",
       "        vertical-align: top;\n",
       "    }\n",
       "\n",
       "    .dataframe thead th {\n",
       "        text-align: right;\n",
       "    }\n",
       "</style>\n",
       "<table border=\"1\" class=\"dataframe\">\n",
       "  <thead>\n",
       "    <tr style=\"text-align: right;\">\n",
       "      <th></th>\n",
       "      <th>PRECIPITATION</th>\n",
       "      <th>HUMIDITY</th>\n",
       "      <th>SUNSHINE</th>\n",
       "      <th>WIND</th>\n",
       "      <th>TMAX</th>\n",
       "      <th>TMIN</th>\n",
       "    </tr>\n",
       "    <tr>\n",
       "      <th>DATE</th>\n",
       "      <th></th>\n",
       "      <th></th>\n",
       "      <th></th>\n",
       "      <th></th>\n",
       "      <th></th>\n",
       "      <th></th>\n",
       "    </tr>\n",
       "  </thead>\n",
       "  <tbody>\n",
       "  </tbody>\n",
       "</table>\n",
       "</div>"
      ],
      "text/plain": [
       "Empty DataFrame\n",
       "Columns: [PRECIPITATION, HUMIDITY, SUNSHINE, WIND, TMAX, TMIN]\n",
       "Index: []"
      ]
     },
     "execution_count": 20,
     "metadata": {},
     "output_type": "execute_result"
    }
   ],
   "source": [
    "core_weather[pd.isnull(core_weather[\"PRECIPITATION\"])]"
   ]
  },
  {
   "cell_type": "code",
   "execution_count": 21,
   "id": "5949fafa",
   "metadata": {},
   "outputs": [],
   "source": [
    "# now in core_weather - 'PRECIPITATION' column has no null values \n",
    "# all the null values are replaced to '0' "
   ]
  },
  {
   "cell_type": "code",
   "execution_count": 22,
   "id": "1268adbe",
   "metadata": {},
   "outputs": [],
   "source": [
    "core_weather = core_weather.fillna(method=\"ffill\")"
   ]
  },
  {
   "cell_type": "code",
   "execution_count": 23,
   "id": "99b768e9",
   "metadata": {},
   "outputs": [
    {
     "data": {
      "text/plain": [
       "PRECIPITATION    0\n",
       "HUMIDITY         0\n",
       "SUNSHINE         0\n",
       "WIND             0\n",
       "TMAX             0\n",
       "TMIN             0\n",
       "dtype: int64"
      ]
     },
     "execution_count": 23,
     "metadata": {},
     "output_type": "execute_result"
    }
   ],
   "source": [
    "core_weather.apply(pd.isnull).sum()"
   ]
  },
  {
   "cell_type": "code",
   "execution_count": 24,
   "id": "d6381f6a",
   "metadata": {},
   "outputs": [],
   "source": [
    "# now we have no null values in any of the columns \n",
    "# as we replaced null values to 0 in PRECIPITATION column \n",
    "# and we used 'forward fill' method in other columns , which replaces null values by forward values"
   ]
  },
  {
   "cell_type": "markdown",
   "id": "ec19a1ae",
   "metadata": {},
   "source": [
    "VERIFYING THAT WE HAVE CORRECT DATA TYPES "
   ]
  },
  {
   "cell_type": "code",
   "execution_count": 25,
   "id": "f3659db5",
   "metadata": {},
   "outputs": [
    {
     "data": {
      "text/plain": [
       "PRECIPITATION    object\n",
       "HUMIDITY         object\n",
       "SUNSHINE         object\n",
       "WIND             object\n",
       "TMAX             object\n",
       "TMIN             object\n",
       "dtype: object"
      ]
     },
     "execution_count": 25,
     "metadata": {},
     "output_type": "execute_result"
    }
   ],
   "source": [
    "core_weather.dtypes"
   ]
  },
  {
   "cell_type": "code",
   "execution_count": null,
   "id": "3f809aff",
   "metadata": {},
   "outputs": [],
   "source": [
    "# every columns datatype is in object form \n",
    "# we have to convert it into numeric datatype\n",
    "# astype() command is used to convert datatypes "
   ]
  },
  {
   "cell_type": "code",
   "execution_count": null,
   "id": "e41f9ecc",
   "metadata": {},
   "outputs": [],
   "source": [
    "core_weather[\"PRECIPITATION\"] = core_weather[\"PRECIPITATION\"].astype(float)"
   ]
  },
  {
   "cell_type": "code",
   "execution_count": 36,
   "id": "a4f42622",
   "metadata": {},
   "outputs": [
    {
     "data": {
      "text/plain": [
       "PRECIPITATION    float64\n",
       "HUMIDITY          object\n",
       "SUNSHINE          object\n",
       "WIND              object\n",
       "TMAX              object\n",
       "TMIN              object\n",
       "dtype: object"
      ]
     },
     "execution_count": 36,
     "metadata": {},
     "output_type": "execute_result"
    }
   ],
   "source": [
    "core_weather.dtypes"
   ]
  },
  {
   "cell_type": "code",
   "execution_count": 37,
   "id": "7d579e9d",
   "metadata": {},
   "outputs": [],
   "source": [
    "core_weather[\"HUMIDITY\"] = core_weather[\"HUMIDITY\"].astype(float)\n",
    "core_weather[\"SUNSHINE\"] = core_weather[\"SUNSHINE\"].astype(float)\n",
    "core_weather[\"WIND\"] = core_weather[\"WIND\"].astype(float)\n",
    "core_weather[\"TMAX\"] = core_weather[\"TMAX\"].astype(float)\n",
    "core_weather[\"TMIN\"] = core_weather[\"TMIN\"].astype(float)"
   ]
  },
  {
   "cell_type": "code",
   "execution_count": 41,
   "id": "cacaca2b",
   "metadata": {},
   "outputs": [
    {
     "data": {
      "text/plain": [
       "PRECIPITATION    float64\n",
       "HUMIDITY         float64\n",
       "SUNSHINE         float64\n",
       "WIND             float64\n",
       "TMAX             float64\n",
       "TMIN             float64\n",
       "dtype: object"
      ]
     },
     "execution_count": 41,
     "metadata": {},
     "output_type": "execute_result"
    }
   ],
   "source": [
    "core_weather.dtypes"
   ]
  },
  {
   "cell_type": "code",
   "execution_count": null,
   "id": "7e3d5992",
   "metadata": {},
   "outputs": [],
   "source": [
    "# every column is converted into numeric datatype as float64"
   ]
  },
  {
   "cell_type": "code",
   "execution_count": 43,
   "id": "889f9d62",
   "metadata": {},
   "outputs": [
    {
     "data": {
      "text/plain": [
       "Index(['2012-01-01', '2012-01-02', '2012-01-03', '2012-01-04', '2012-01-05',\n",
       "       '2012-01-06', '2012-01-07', '2012-01-08', '2012-01-09', '2012-01-10',\n",
       "       ...\n",
       "       '2022-12-22', '2022-12-23', '2022-12-24', '2022-12-25', '2022-12-26',\n",
       "       '2022-12-27', '2022-12-28', '2022-12-29', '2022-12-30', '2022-12-31'],\n",
       "      dtype='object', name='DATE', length=8034)"
      ]
     },
     "execution_count": 43,
     "metadata": {},
     "output_type": "execute_result"
    }
   ],
   "source": [
    "core_weather.index"
   ]
  },
  {
   "cell_type": "code",
   "execution_count": 44,
   "id": "2715762c",
   "metadata": {},
   "outputs": [],
   "source": [
    "# index is in object datatypes so it acts as string \n",
    "# the index values are actually date&time so we have to convert it into date&time index"
   ]
  },
  {
   "cell_type": "code",
   "execution_count": 45,
   "id": "32aabc26",
   "metadata": {},
   "outputs": [],
   "source": [
    "core_weather.index = pd.to_datetime(core_weather.index)"
   ]
  },
  {
   "cell_type": "code",
   "execution_count": 46,
   "id": "89c1c284",
   "metadata": {},
   "outputs": [
    {
     "data": {
      "text/plain": [
       "DatetimeIndex(['2012-01-01', '2012-01-02', '2012-01-03', '2012-01-04',\n",
       "               '2012-01-05', '2012-01-06', '2012-01-07', '2012-01-08',\n",
       "               '2012-01-09', '2012-01-10',\n",
       "               ...\n",
       "               '2022-12-22', '2022-12-23', '2022-12-24', '2022-12-25',\n",
       "               '2022-12-26', '2022-12-27', '2022-12-28', '2022-12-29',\n",
       "               '2022-12-30', '2022-12-31'],\n",
       "              dtype='datetime64[ns]', name='DATE', length=8034, freq=None)"
      ]
     },
     "execution_count": 46,
     "metadata": {},
     "output_type": "execute_result"
    }
   ],
   "source": [
    "core_weather.index"
   ]
  },
  {
   "cell_type": "code",
   "execution_count": 47,
   "id": "6bc781a0",
   "metadata": {},
   "outputs": [],
   "source": [
    "# datatype of index is changed into datetime64\n"
   ]
  },
  {
   "cell_type": "markdown",
   "id": "1e82dcd2",
   "metadata": {},
   "source": [
    "##### 4) DATA ANALYSIS & VISUALIZATION "
   ]
  },
  {
   "cell_type": "code",
   "execution_count": 49,
   "id": "97c909f4",
   "metadata": {},
   "outputs": [],
   "source": [
    "import matplotlib.pyplot as plt                                  # importing matplotlib library for visualization"
   ]
  },
  {
   "cell_type": "code",
   "execution_count": 50,
   "id": "9a31d977",
   "metadata": {},
   "outputs": [
    {
     "data": {
      "text/plain": [
       "<Axes: xlabel='DATE'>"
      ]
     },
     "execution_count": 50,
     "metadata": {},
     "output_type": "execute_result"
    },
    {
     "data": {
      "image/png": "[encoded data removed]",
      "text/plain": [
       "<Figure size 640x480 with 1 Axes>"
      ]
     },
     "metadata": {},
     "output_type": "display_data"
    }
   ],
   "source": [
    "core_weather[[\"TMAX\",\"TMIN\"]].plot()"
   ]
  },
  {
   "cell_type": "code",
   "execution_count": 51,
   "id": "a3559f9d",
   "metadata": {},
   "outputs": [
    {
     "data": {
      "text/plain": [
       "<Axes: xlabel='DATE'>"
      ]
     },
     "execution_count": 51,
     "metadata": {},
     "output_type": "execute_result"
    },
    {
     "data": {
      "image/png": "[encoded data removed]",
      "text/plain": [
       "<Figure size 640x480 with 1 Axes>"
      ]
     },
     "metadata": {},
     "output_type": "display_data"
    }
   ],
   "source": [
    "core_weather[[\"WIND\"]].plot()"
   ]
  },
  {
   "cell_type": "code",
   "execution_count": 52,
   "id": "bf4f21e5",
   "metadata": {},
   "outputs": [
    {
     "data": {
      "text/plain": [
       "<Axes: xlabel='DATE'>"
      ]
     },
     "execution_count": 52,
     "metadata": {},
     "output_type": "execute_result"
    },
    {
     "data": {
      "image/png": "[encoded data removed]",
      "text/plain": [
       "<Figure size 640x480 with 1 Axes>"
      ]
     },
     "metadata": {},
     "output_type": "display_data"
    }
   ],
   "source": [
    "core_weather[[\"SUNSHINE\"]].plot()"
   ]
  },
  {
   "cell_type": "code",
   "execution_count": 53,
   "id": "b4f95b29",
   "metadata": {},
   "outputs": [
    {
     "data": {
      "text/plain": [
       "<Axes: xlabel='DATE'>"
      ]
     },
     "execution_count": 53,
     "metadata": {},
     "output_type": "execute_result"
    },
    {
     "data": {
      "image/png": "[encoded data removed]",
      "text/plain": [
       "<Figure size 640x480 with 1 Axes>"
      ]
     },
     "metadata": {},
     "output_type": "display_data"
    }
   ],
   "source": [
    "core_weather[[\"HUMIDITY\"]].plot()"
   ]
  },
  {
   "cell_type": "code",
   "execution_count": 54,
   "id": "9aa2aad9",
   "metadata": {
    "scrolled": true
   },
   "outputs": [
    {
     "data": {
      "text/plain": [
       "<Axes: xlabel='DATE'>"
      ]
     },
     "execution_count": 54,
     "metadata": {},
     "output_type": "execute_result"
    },
    {
     "data": {
      "image/png": "[encoded data removed]",
      "text/plain": [
       "<Figure size 640x480 with 1 Axes>"
      ]
     },
     "metadata": {},
     "output_type": "display_data"
    }
   ],
   "source": [
    "core_weather[[\"PRECIPITATION\"]].plot()"
   ]
  }
 ],
 "metadata": {
  "kernelspec": {
   "display_name": "Python 3 (ipykernel)",
   "language": "python",
   "name": "python3"
  },
  "language_info": {
   "codemirror_mode": {
    "name": "ipython",
    "version": 3
   },
   "file_extension": ".py",
   "mimetype": "text/x-python",
   "name": "python",
   "nbconvert_exporter": "python",
   "pygments_lexer": "ipython3",
   "version": "3.10.9"
  }
 },
 "nbformat": 4,
 "nbformat_minor": 5
}
